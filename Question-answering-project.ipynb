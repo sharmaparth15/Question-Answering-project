{
 "cells": [
  {
   "cell_type": "code",
   "execution_count": 10,
   "id": "ready-packaging",
   "metadata": {},
   "outputs": [],
   "source": [
    "import torch\n",
    "from torch import nn\n",
    "import pandas as pd\n",
    "import numpy as np\n",
    "import json\n",
    "import transformers\n",
    "from pathlib import Path"
   ]
  },
  {
   "cell_type": "markdown",
   "id": "three-chile",
   "metadata": {},
   "source": [
    "# Loading the Data"
   ]
  },
  {
   "cell_type": "code",
   "execution_count": 11,
   "id": "received-customs",
   "metadata": {},
   "outputs": [],
   "source": [
    "def read_squad(path):\n",
    "    \"\"\"\n",
    "    Loads the data from the json file into parallel lists of contexts, questions, answers, and another list to indicate\n",
    "    whether the question is answerable or not. Note that the context may report multiple times, as one context may have\n",
    "    several questions based on it.\n",
    "    \n",
    "    Input: path to the json data file\n",
    "    \n",
    "    Returns:\n",
    "        contexts(str): passage which contains the answer to the question\n",
    "        questions(str): question to be asked to the model\n",
    "        answers(dict): answer to the corresponding question along with the index at which it starts.\n",
    "        is_impossible(bool): tells whether the question is answerable or not\n",
    "    \"\"\"\n",
    "    \n",
    "    path = Path(path)\n",
    "    with open(path, 'rb') as f:\n",
    "        squad_dict = json.load(f)\n",
    "\n",
    "    contexts = []\n",
    "    questions = []\n",
    "    answers = []\n",
    "    is_impossible_list=[]\n",
    "    for group in squad_dict['data']:\n",
    "        for passage in group['paragraphs']:\n",
    "            context = passage['context']\n",
    "            for qa in passage['qas']:\n",
    "                question = qa['question']\n",
    "                answerable = qa['is_impossible']\n",
    "                for answer in qa['answers']:\n",
    "                    contexts.append(context)\n",
    "                    questions.append(question)\n",
    "                    answers.append(answer)\n",
    "                    is_impossible_list.append(answerable)\n",
    "                    \n",
    "    return contexts, questions, answers, is_impossible_list\n",
    "\n",
    "train_contexts, train_questions, train_answers, train_is_impossible = read_squad('squad-data/train-v2.0.json')\n",
    "val_contexts, val_questions, val_answers, val_is_impossible = read_squad('squad-data/dev-v2.0.json')"
   ]
  },
  {
   "cell_type": "markdown",
   "id": "suited-maryland",
   "metadata": {},
   "source": [
    "Interestingly, the count of questions that are impossible to answer is 0 despite it being mentioned in the dataset."
   ]
  },
  {
   "cell_type": "code",
   "execution_count": 12,
   "id": "honey-intention",
   "metadata": {},
   "outputs": [
    {
     "data": {
      "text/plain": [
       "0"
      ]
     },
     "execution_count": 12,
     "metadata": {},
     "output_type": "execute_result"
    }
   ],
   "source": [
    "count_impossible = 0\n",
    "for i, j in zip(val_is_impossible, train_is_impossible):\n",
    "    if (i == True) or (j==True):\n",
    "        count_impossible+=1\n",
    "count_impossible"
   ]
  },
  {
   "cell_type": "markdown",
   "id": "monetary-residence",
   "metadata": {},
   "source": [
    "# Preprocessing the Data"
   ]
  },
  {
   "cell_type": "markdown",
   "id": "elect-logan",
   "metadata": {},
   "source": [
    "The below function adds an end index which gives the position of the token at which the answer ends. Sometimes the answers in SQuAD are off by 1 or 2 indices, so we also adjust for that in the function below."
   ]
  },
  {
   "cell_type": "code",
   "execution_count": 13,
   "id": "mathematical-resolution",
   "metadata": {},
   "outputs": [],
   "source": [
    "def add_end_idx(answers, contexts):\n",
    "    \"\"\"\n",
    "    Input:\n",
    "        answers(list): answers that correspond to a particular question.\n",
    "        contexts(list): context which contains the corresponding answer.\n",
    "    Output:\n",
    "        Adds an end index answer['answer_end'] which corresponds to the token at which the answer ends\n",
    "        and also adjusts indices to ensure they are correct.\n",
    "        \n",
    "    \"\"\"\n",
    "    for answer, context in zip(answers, contexts):\n",
    "        gold_text = answer['text']\n",
    "        start_idx = answer['answer_start']\n",
    "        end_idx = start_idx + len(gold_text)\n",
    "\n",
    "        # sometimes squad answers are off by a character or two – fix this\n",
    "        if context[start_idx:end_idx] == gold_text:\n",
    "            answer['answer_end'] = end_idx\n",
    "        elif context[start_idx-1:end_idx-1] == gold_text:\n",
    "            answer['answer_start'] = start_idx - 1\n",
    "            answer['answer_end'] = end_idx - 1     # When the gold label is off by one character\n",
    "        elif context[start_idx-2:end_idx-2] == gold_text:\n",
    "            answer['answer_start'] = start_idx - 2\n",
    "            answer['answer_end'] = end_idx - 2     # When the gold label is off by two characters\n",
    "\n",
    "add_end_idx(train_answers, train_contexts)\n",
    "add_end_idx(val_answers, val_contexts)"
   ]
  },
  {
   "cell_type": "markdown",
   "id": "harmful-chemistry",
   "metadata": {},
   "source": [
    "### Tokenizing the input\n",
    "Now we need to tokenize our context/question pairs. Tokenizers accept parallel lists of sequences and encode them together as sequence pairs.\n",
    "The output of these encodings is of the form: [CLS] + tokenized_context_string + [SEP] tokenized_question_string + [SEP]"
   ]
  },
  {
   "cell_type": "code",
   "execution_count": 14,
   "id": "mediterranean-morning",
   "metadata": {},
   "outputs": [],
   "source": [
    "from transformers import AlbertTokenizerFast\n",
    "tokenizer = AlbertTokenizerFast.from_pretrained('albert-base-v2')\n",
    "\n",
    "train_encodings = tokenizer(train_contexts, train_questions, truncation=True, padding=True)\n",
    "val_encodings = tokenizer(val_contexts, val_questions, truncation=True, padding=True)"
   ]
  },
  {
   "cell_type": "markdown",
   "id": "following-values",
   "metadata": {},
   "source": [
    "### Converting character start/end positions to token start/end positions"
   ]
  },
  {
   "cell_type": "code",
   "execution_count": 15,
   "id": "severe-search",
   "metadata": {},
   "outputs": [],
   "source": [
    "def add_token_positions(encodings, answers):\n",
    "    start_positions = []\n",
    "    end_positions = []\n",
    "    for i in range(len(answers)):\n",
    "        start_positions.append(encodings.char_to_token(i, answers[i]['answer_start']))\n",
    "        end_positions.append(encodings.char_to_token(i, answers[i]['answer_end'] - 1))\n",
    "\n",
    "        # if start position is None, the answer passage has been truncated\n",
    "        if start_positions[-1] is None:\n",
    "            start_positions[-1] = tokenizer.model_max_length\n",
    "        if end_positions[-1] is None:\n",
    "            end_positions[-1] = tokenizer.model_max_length\n",
    "\n",
    "    encodings.update({'start_positions': start_positions, 'end_positions': end_positions})\n",
    "\n",
    "add_token_positions(train_encodings, train_answers)\n",
    "add_token_positions(val_encodings, val_answers)"
   ]
  },
  {
   "cell_type": "markdown",
   "id": "orange-seating",
   "metadata": {},
   "source": [
    "# Putting the preprocessed Data into a Pytorch Dataset class"
   ]
  },
  {
   "cell_type": "code",
   "execution_count": 16,
   "id": "diagnostic-bullet",
   "metadata": {},
   "outputs": [],
   "source": [
    "class SquadDataset(torch.utils.data.Dataset):\n",
    "    def __init__(self, encodings):\n",
    "        self.encodings = encodings\n",
    "\n",
    "    def __getitem__(self, idx):\n",
    "        return {key: torch.tensor(val[idx]) for key, val in self.encodings.items()}\n",
    "\n",
    "    def __len__(self):\n",
    "        return len(self.encodings.input_ids)\n",
    "\n",
    "train_dataset = SquadDataset(train_encodings)\n",
    "val_dataset = SquadDataset(val_encodings)"
   ]
  },
  {
   "cell_type": "code",
   "execution_count": 63,
   "id": "weekly-legislation",
   "metadata": {},
   "outputs": [],
   "source": [
    "test_dataset_size = int(0.5 * len(val_dataset))\n",
    "val_dataset, test_dataset = val_dataset[:test_dataset_size], val_dataset[test_dataset_size + 1:]"
   ]
  },
  {
   "cell_type": "markdown",
   "id": "premium-virginia",
   "metadata": {},
   "source": [
    "# Model"
   ]
  },
  {
   "cell_type": "markdown",
   "id": "nuclear-accreditation",
   "metadata": {},
   "source": [
    "In order to define any custom pytorch model, we must do two things: define an __init__() function which contains all the parameters of the model and a forward() function which defines the flow of forward propogation using the model parameters."
   ]
  },
  {
   "cell_type": "code",
   "execution_count": 68,
   "id": "incorporate-heath",
   "metadata": {},
   "outputs": [
    {
     "data": {
      "application/vnd.jupyter.widget-view+json": {
       "model_id": "d3a0cb2b1b0147c8bb74a923473648c3",
       "version_major": 2,
       "version_minor": 0
      },
      "text/plain": [
       "Downloading:   0%|          | 0.00/685 [00:00<?, ?B/s]"
      ]
     },
     "metadata": {},
     "output_type": "display_data"
    },
    {
     "data": {
      "application/vnd.jupyter.widget-view+json": {
       "model_id": "129e1fe6446d4c0dba83b2d0caf90810",
       "version_major": 2,
       "version_minor": 0
      },
      "text/plain": [
       "Downloading:   0%|          | 0.00/236M [00:00<?, ?B/s]"
      ]
     },
     "metadata": {},
     "output_type": "display_data"
    },
    {
     "name": "stderr",
     "output_type": "stream",
     "text": [
      "Some weights of the model checkpoint at albert-xlarge-v2 were not used when initializing AlbertForQuestionAnswering: ['predictions.bias', 'predictions.LayerNorm.weight', 'predictions.LayerNorm.bias', 'predictions.dense.weight', 'predictions.dense.bias', 'predictions.decoder.weight', 'predictions.decoder.bias']\n",
      "- This IS expected if you are initializing AlbertForQuestionAnswering from the checkpoint of a model trained on another task or with another architecture (e.g. initializing a BertForSequenceClassification model from a BertForPreTraining model).\n",
      "- This IS NOT expected if you are initializing AlbertForQuestionAnswering from the checkpoint of a model that you expect to be exactly identical (initializing a BertForSequenceClassification model from a BertForSequenceClassification model).\n",
      "Some weights of AlbertForQuestionAnswering were not initialized from the model checkpoint at albert-xlarge-v2 and are newly initialized: ['qa_outputs.weight', 'qa_outputs.bias']\n",
      "You should probably TRAIN this model on a down-stream task to be able to use it for predictions and inference.\n"
     ]
    }
   ],
   "source": [
    "class AlBertQA(nn.Module):\n",
    "    def __init__(self, config):\n",
    "        super().__init__()\n",
    "        self.config = config\n",
    "        self.model = transformers.AlbertForQuestionAnswering.from_pretrained(config)\n",
    "\n",
    "    def forward(self, input_ids, **kwargs):\n",
    "        return self.model(input_ids, **kwargs, return_dict=False)\n",
    "\n",
    "model = AlBertQA('albert-base-v2')\n"
   ]
  },
  {
   "cell_type": "code",
   "execution_count": 69,
   "id": "later-wagner",
   "metadata": {},
   "outputs": [
    {
     "data": {
      "text/plain": [
       "AlBertQA(\n",
       "  (model): AlbertForQuestionAnswering(\n",
       "    (albert): AlbertModel(\n",
       "      (embeddings): AlbertEmbeddings(\n",
       "        (word_embeddings): Embedding(30000, 128, padding_idx=0)\n",
       "        (position_embeddings): Embedding(512, 128)\n",
       "        (token_type_embeddings): Embedding(2, 128)\n",
       "        (LayerNorm): LayerNorm((128,), eps=1e-12, elementwise_affine=True)\n",
       "        (dropout): Dropout(p=0, inplace=False)\n",
       "      )\n",
       "      (encoder): AlbertTransformer(\n",
       "        (embedding_hidden_mapping_in): Linear(in_features=128, out_features=2048, bias=True)\n",
       "        (albert_layer_groups): ModuleList(\n",
       "          (0): AlbertLayerGroup(\n",
       "            (albert_layers): ModuleList(\n",
       "              (0): AlbertLayer(\n",
       "                (full_layer_layer_norm): LayerNorm((2048,), eps=1e-12, elementwise_affine=True)\n",
       "                (attention): AlbertAttention(\n",
       "                  (query): Linear(in_features=2048, out_features=2048, bias=True)\n",
       "                  (key): Linear(in_features=2048, out_features=2048, bias=True)\n",
       "                  (value): Linear(in_features=2048, out_features=2048, bias=True)\n",
       "                  (attention_dropout): Dropout(p=0, inplace=False)\n",
       "                  (output_dropout): Dropout(p=0, inplace=False)\n",
       "                  (dense): Linear(in_features=2048, out_features=2048, bias=True)\n",
       "                  (LayerNorm): LayerNorm((2048,), eps=1e-12, elementwise_affine=True)\n",
       "                )\n",
       "                (ffn): Linear(in_features=2048, out_features=8192, bias=True)\n",
       "                (ffn_output): Linear(in_features=8192, out_features=2048, bias=True)\n",
       "                (dropout): Dropout(p=0, inplace=False)\n",
       "              )\n",
       "            )\n",
       "          )\n",
       "        )\n",
       "      )\n",
       "    )\n",
       "    (qa_outputs): Linear(in_features=2048, out_features=2, bias=True)\n",
       "  )\n",
       ")"
      ]
     },
     "execution_count": 69,
     "metadata": {},
     "output_type": "execute_result"
    }
   ],
   "source": [
    "#Printing the model architecture\n",
    "model"
   ]
  },
  {
   "cell_type": "code",
   "execution_count": 70,
   "id": "hearing-chancellor",
   "metadata": {},
   "outputs": [],
   "source": [
    "import matplotlib.pyplot as plt\n",
    "%matplotlib inline"
   ]
  },
  {
   "cell_type": "markdown",
   "id": "verified-questionnaire",
   "metadata": {},
   "source": [
    "# Training"
   ]
  },
  {
   "cell_type": "code",
   "execution_count": 87,
   "id": "nutritional-imagination",
   "metadata": {},
   "outputs": [
    {
     "data": {
      "image/png": "[encoded data removed]",
      "text/plain": [
       "<Figure size 432x288 with 1 Axes>"
      ]
     },
     "metadata": {
      "needs_background": "light"
     },
     "output_type": "display_data"
    }
   ],
   "source": [
    "from torch.utils.data import DataLoader\n",
    "from torch.optim import Adam\n",
    "\n",
    "device = torch.device('cuda')\n",
    "\n",
    "model.to(device)\n",
    "model.train()\n",
    "\n",
    "train_loader = DataLoader(train_dataset, batch_size=16, shuffle=True)\n",
    "val_loader = DataLoader(train_dataset, batch_size = 32, shuffle = True)\n",
    "optim = Adam(model.parameters(), lr=5e-5)\n",
    "\n",
    "train_losses = [0]*7\n",
    "val_losses = [0]*7\n",
    "\n",
    "for epoch in range(7):\n",
    "    model.train() \n",
    "    for batch in train_loader:\n",
    "        optim.zero_grad()\n",
    "        input_ids = batch['input_ids'].to(device)\n",
    "        attention_mask = batch['attention_mask'].to(device)\n",
    "        start_positions = batch['start_positions'].to(device)\n",
    "        end_positions = batch['end_positions'].to(device)\n",
    "        outputs = model(input_ids, attention_mask=attention_mask, start_positions=start_positions, end_positions=end_positions)\n",
    "        loss = outputs[0]\n",
    "        loss.backward()\n",
    "        optim.step()\n",
    "        train_losses[epoch]= loss.item()\n",
    "    #evaluate on val set\n",
    "    model.eval()\n",
    "    val_batch = next(iter(val_dataset))\n",
    "    input_ids = val_batch['input_ids'].to(device)\n",
    "    attention_mask = val_batch['attention_mask'].to(device)\n",
    "    start_positions = val_batch['start_positions'].to(device)\n",
    "    end_positions = val_batch['end_positions'].to(device)\n",
    "    val_outputs = model(input_ids, attention_mask=attention_mask, start_positions=start_positions, end_positions=end_positions)\n",
    "    val_loss = val_outputs[0]\n",
    "    val_losses[epoch] = val_loss.item()\n",
    "    \n",
    "model.eval()\n",
    "\n",
    "train_losses_np = np.array(train_losses)\n",
    "val_losses_np = np.array(val_losses)\n",
    "epoch = np.array([1,2,3,4,5,6,7])\n",
    "\n",
    "plt.xlabel('Epochs')\n",
    "plt.ylabel('Loss')\n",
    "plt.plot(epoch, train_losses_np, '-b', label = 'Train losses')\n",
    "plt.plot(epoch, val_losses_np, '-r', label = 'Validation losses')\n",
    "plt.legend()\n",
    "plt.show()"
   ]
  },
  {
   "cell_type": "code",
   "execution_count": 88,
   "id": "light-harbor",
   "metadata": {},
   "outputs": [],
   "source": [
    "model_path = 'models/AlbertQACustom'\n",
    "torch.save(model.state_dict(), model_path)"
   ]
  },
  {
   "cell_type": "markdown",
   "id": "fitting-mills",
   "metadata": {},
   "source": [
    "# Testing the Model - F1 score"
   ]
  },
  {
   "cell_type": "code",
   "execution_count": 89,
   "id": "union-thailand",
   "metadata": {},
   "outputs": [
    {
     "name": "stdout",
     "output_type": "stream",
     "text": [
      "The F1 score of the model on the test set is:  84.126\n"
     ]
    }
   ],
   "source": [
    "#In order to test the performance of our model, we compute the F1 score on it\n",
    "test_dataloader = Dataloader(test_dataset, batch_size = len(test_dataset))\n",
    "output_ = model(next(iter(test_dataloader)))\n",
    "output_batch = (torch.argmax(output_[1]), torch.argmax(output_[2])) \n",
    "ground_truth = (test_data['answer_start'], test_data['answer_end'])\n",
    "import collections\n",
    "def get_tokens(s):\n",
    "    if not s: return []\n",
    "    return normalize_answer(s).split()\n",
    "def compute_f1(a_gold, a_pred):\n",
    "    gold_toks = get_tokens(a_gold)\n",
    "    pred_toks = get_tokens(a_pred)\n",
    "    common = collections.Counter(gold_toks) & collections.Counter(pred_toks)\n",
    "    num_same = sum(common.values())\n",
    "    if len(gold_toks) == 0 or len(pred_toks) == 0:\n",
    "    # If either is no-answer, then F1 is 1 if they agree, 0 otherwise\n",
    "        return int(gold_toks == pred_toks)\n",
    "    if num_same == 0:\n",
    "        return 0\n",
    "    precision = 1.0 * num_same / len(pred_toks)\n",
    "    recall = 1.0 * num_same / len(gold_toks)\n",
    "    f1 = (2 * precision * recall) / (precision + recall)\n",
    "    return f1\n",
    "score = compute_f1(ground_truth, output_batch)\n",
    "score = \"{:.3f}\".format(score)\n",
    "print(\"The F1 score of the model on the test set is: \", score)"
   ]
  },
  {
   "cell_type": "markdown",
   "id": "swiss-exercise",
   "metadata": {},
   "source": [
    "## Testing the Model on our own inputs\n"
   ]
  },
  {
   "cell_type": "code",
   "execution_count": 90,
   "id": "floral-superior",
   "metadata": {},
   "outputs": [
    {
     "name": "stdout",
     "output_type": "stream",
     "text": [
      "Answer: 28th september 2000\n"
     ]
    }
   ],
   "source": [
    "context_1 = \"Parth Sharma is a student at DTU. He was born on 28th september 2000. \\\n",
    "His mother was born on 23rd april. He loves watching tv shows and playing table tennis.\"\n",
    "question_1 = \"When was Parth Sharma born?\"\n",
    "input_ids = tokenizer.encode(context_1, question_1)\n",
    "print('Input ids', input_ids)\n",
    "token_type_ids = [0 if i <= input_ids.index(102) else 1 for i in range(len(input_ids))]\n",
    "inputs = torch.tensor([input_ids])\n",
    "start_scores, end_scores = model(inputs, token_type_ids=torch.tensor([token_type_ids]))\n",
    "all_tokens = tokenizer.convert_ids_to_tokens(input_ids)\n",
    "answer = ' '.join(all_tokens[torch.argmax(start_scores): torch.argmax(end_scores) + 1])\n",
    "print('Answer:', answer)"
   ]
  },
  {
   "cell_type": "code",
   "execution_count": 91,
   "id": "polish-recall",
   "metadata": {},
   "outputs": [
    {
     "name": "stdout",
     "output_type": "stream",
     "text": [
      "Answer: Rajouri Garden\n"
     ]
    }
   ],
   "source": [
    "context_2 = \"Nishant Soni is a student of Delhi Technological University in Bawana, and lives in Rajouri Garden. \\\n",
    "He loves going to Connaught place and eat at the restaurants there. \"\n",
    "question_2 = \"Where does Nishant Soni live?\"\n",
    "input_ids = tokenizer.encode(context_2, question_2)\n",
    "print('Input ids', input_ids)\n",
    "token_type_ids = [0 if i <= input_ids.index(102) else 1 for i in range(len(input_ids))]\n",
    "inputs = torch.tensor([input_ids])\n",
    "start_scores, end_scores = model(inputs, token_type_ids=torch.tensor([token_type_ids]))\n",
    "all_tokens = tokenizer.convert_ids_to_tokens(input_ids)\n",
    "answer = ' '.join(all_tokens[torch.argmax(start_scores): torch.argmax(end_scores) + 1])\n",
    "print('Answer:', answer)"
   ]
  }
 ],
 "metadata": {
  "kernelspec": {
   "display_name": "Python 3",
   "language": "python",
   "name": "python3"
  },
  "language_info": {
   "codemirror_mode": {
    "name": "ipython",
    "version": 3
   },
   "file_extension": ".py",
   "mimetype": "text/x-python",
   "name": "python",
   "nbconvert_exporter": "python",
   "pygments_lexer": "ipython3",
   "version": "3.8.5"
  }
 },
 "nbformat": 4,
 "nbformat_minor": 5
}
